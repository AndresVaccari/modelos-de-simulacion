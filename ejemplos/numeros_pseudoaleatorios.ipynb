{
  "cells": [
    {
      "cell_type": "markdown",
      "metadata": {},
      "source": [
        "Link Google Colab:\n",
        "\n",
        "[Numeros Pseudoaleatorios](https://colab.research.google.com/drive/1g7LUxAx5nfQbNJLGuBMZbXa7V_IBWIl6?usp=sharing)"
      ]
    },
    {
      "cell_type": "code",
      "execution_count": 15,
      "metadata": {},
      "outputs": [
        {
          "name": "stdout",
          "output_type": "stream",
          "text": [
            "Semilla: 5\n",
            "[5, 1, 1, 1, 1, 1, 1, 1]\n"
          ]
        }
      ],
      "source": [
        "import numeros_pseudoaleatorios as npseudo\n",
        "\n",
        "npseudo.main()\n"
      ]
    }
  ],
  "metadata": {
    "colab": {
      "name": "numeros-pseudoaleatorios.ipynb",
      "provenance": []
    },
    "kernelspec": {
      "display_name": "Python 3",
      "name": "python3"
    },
    "language_info": {
      "codemirror_mode": {
        "name": "ipython",
        "version": 3
      },
      "file_extension": ".py",
      "mimetype": "text/x-python",
      "name": "python",
      "nbconvert_exporter": "python",
      "pygments_lexer": "ipython3",
      "version": "3.9.12"
    }
  },
  "nbformat": 4,
  "nbformat_minor": 0
}
