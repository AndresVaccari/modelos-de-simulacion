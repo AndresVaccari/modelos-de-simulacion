{
  "cells": [
    {
      "cell_type": "markdown",
      "metadata": {},
      "source": [
        "Link Google Colab:\n",
        "\n",
        "[Modelos de Simulacion](https://colab.research.google.com/drive/1aCLDtH-CdL1TW5VfFzVfh7udM3lMKx53?usp=sharing)"
      ]
    },
    {
      "cell_type": "code",
      "execution_count": 1,
      "metadata": {
        "id": "twmlZJIpwQd0"
      },
      "outputs": [],
      "source": [
        "from scipy.stats import binom, poisson, norm\n",
        "import numpy as np\n",
        "import matplotlib.pyplot as plt"
      ]
    },
    {
      "cell_type": "markdown",
      "metadata": {
        "id": "oL_-9Iry4bV3"
      },
      "source": [
        "---\n",
        "Generar una muestra aleatoria de 100 elementos que siga una distribución binomial B(20, 0.25). "
      ]
    },
    {
      "cell_type": "markdown",
      "metadata": {
        "id": "xQMycvU9lIIL"
      },
      "source": []
    },
    {
      "cell_type": "code",
      "execution_count": 2,
      "metadata": {
        "colab": {
          "base_uri": "https://localhost:8080/"
        },
        "id": "V8cCc1mA4lF0",
        "outputId": "2deed602-865f-4ee7-be0a-321b53fddc46"
      },
      "outputs": [
        {
          "data": {
            "text/plain": [
              "array([ 5,  4,  5,  4,  3,  1,  6,  3,  6,  6,  7,  6,  7,  5,  6,  5,  4,\n",
              "        3,  4,  3,  4,  4,  4,  6,  3,  3,  5,  3,  9,  7,  5,  9,  4,  5,\n",
              "        6,  6,  5,  6,  3,  4,  6,  3,  8,  2,  5,  5,  4, 12,  5,  3,  7,\n",
              "        6,  3,  7,  4,  2,  4,  6,  4,  6,  7,  6,  6,  3,  6,  3,  2,  6,\n",
              "        3, 10,  7,  1,  4,  2,  7,  7,  5,  3,  4,  5,  9,  2,  4,  3,  4,\n",
              "        1,  6,  4,  6,  7,  3,  2,  7,  3,  1,  6,  4,  5,  4,  1])"
            ]
          },
          "execution_count": 2,
          "metadata": {},
          "output_type": "execute_result"
        }
      ],
      "source": [
        "binom.rvs(n=20, p=0.25, size=100)\n"
      ]
    },
    {
      "cell_type": "code",
      "execution_count": 3,
      "metadata": {
        "colab": {
          "base_uri": "https://localhost:8080/",
          "height": 391
        },
        "id": "If2lsD1g6lkB",
        "outputId": "71101c68-bfe4-4045-c400-3051b7f7b26d"
      },
      "outputs": [
        {
          "data": {
            "image/png": "[encoded data removed]",
            "text/plain": [
              "<Figure size 720x360 with 2 Axes>"
            ]
          },
          "metadata": {
            "needs_background": "light"
          },
          "output_type": "display_data"
        },
        {
          "name": "stdout",
          "output_type": "stream",
          "text": [
            "E(X) = 6.0\n",
            "Var(X) = 2.4000000000000004\n"
          ]
        }
      ],
      "source": [
        "n, p = 10, 0.6\n",
        "# x = np.arange(binom.ppf(0.01, n, p), binom.ppf(0.99, n, p))\n",
        "x = np.arange(0, n)\n",
        "\n",
        "fig = plt.figure(figsize=(10, 5))\n",
        "\n",
        "ax = fig.add_subplot(1,2,1)\n",
        "ax.plot(x, binom.pmf(x, n, p), 'bo', ms=6, label='binom pmf')\n",
        "ax.vlines(x, 0, binom.pmf(x, n, p), colors='b', lw=4, alpha=0.5)\n",
        "\n",
        "ax = fig.add_subplot(1,2,2)\n",
        "ax.plot(x, binom.cdf(x, n, p), 'bo', ms=6, label='binom cdf')\n",
        "ax.vlines(x, 0, binom.cdf(x, n, p), colors='b', lw=4, alpha=0.5)\n",
        "\n",
        "fig.suptitle('Distribucion Binomial')\n",
        "plt.show()\n",
        "\n",
        "print(\"E(X) = {m}\".format(m=binom.stats( n, p, moments='m')))\n",
        "print(\"Var(X) = {v}\".format(v=binom.stats( n, p, moments='v')))\n"
      ]
    },
    {
      "cell_type": "markdown",
      "metadata": {
        "id": "F-zxbh-oJW4D"
      },
      "source": [
        "---\n",
        "Muestra aleatoria con distribución de Poisson\n"
      ]
    },
    {
      "cell_type": "code",
      "execution_count": 4,
      "metadata": {
        "colab": {
          "base_uri": "https://localhost:8080/"
        },
        "id": "Xlrt_7wO_oqQ",
        "outputId": "2973e012-0910-40a2-d48f-67e79107ca99"
      },
      "outputs": [
        {
          "data": {
            "text/plain": [
              "array([3, 4, 0, 1, 2, 4, 3, 4, 3, 0, 3, 4, 2, 2, 1, 5, 0, 0, 2, 3])"
            ]
          },
          "execution_count": 4,
          "metadata": {},
          "output_type": "execute_result"
        }
      ],
      "source": [
        "# poisson.cdf(0, mu=3)\n",
        "\n",
        "poisson.rvs(mu=3, size=20)\n"
      ]
    },
    {
      "cell_type": "markdown",
      "metadata": {
        "id": "aqmsXkxdJnBO"
      },
      "source": [
        "---\n",
        "Ajustar muestra aleatoria a distribución de Poisson"
      ]
    },
    {
      "cell_type": "code",
      "execution_count": 5,
      "metadata": {
        "colab": {
          "base_uri": "https://localhost:8080/",
          "height": 317
        },
        "id": "1afnYq5yJVj7",
        "outputId": "eb0c4df0-4d7e-4911-d5aa-c0212ed5dacc"
      },
      "outputs": [
        {
          "data": {
            "image/png": "[encoded data removed]",
            "text/plain": [
              "<Figure size 432x288 with 1 Axes>"
            ]
          },
          "metadata": {
            "needs_background": "light"
          },
          "output_type": "display_data"
        },
        {
          "name": "stdout",
          "output_type": "stream",
          "text": [
            "[0.01037029 0.0194443  0.03240717 0.04861075 0.06628739 0.08285923\n",
            " 0.09560681 0.10243587 0.10243587 0.09603362 0.08473555 0.07061296\n",
            " 0.05574707 0.04181031 0.0298645  0.02036216 0.01327967 0.00829979]\n",
            "[ 2  4  5  7 11 10  5  4  1  1]\n"
          ]
        }
      ],
      "source": [
        "sample = [ 14, 7, 13, 16, 16, 13, 14, 17, 15, 16, 13, 15, 10, 15, 16, 14, 12, 17, 14, 12, 13, 20, 8, 17, 19, 11, 12, 17, 9, 18, 20, 10, 18, 15, 13, 16, 24, 18, 16, 18, 12, 14, 20, 15, 10, 13, 21, 13, 15, 18]\n",
        "mu= 15\n",
        "x = np.arange(poisson.ppf(0.01, mu), poisson.ppf(0.99, mu))\n",
        "\n",
        "data_poisson = poisson.pmf(x, mu)\n",
        "_ = plt.plot(x, data_poisson, 'r-')\n",
        "_ = plt.hist(sample, density=1)\n",
        "\n",
        "plt.show()\n",
        "print(data_poisson)\n",
        "histo = np.histogram(sample,bins=10)\n",
        "print(histo[0])\n",
        "\n",
        "\n",
        "\n"
      ]
    },
    {
      "cell_type": "markdown",
      "metadata": {
        "id": "hPVALHYdUI1B"
      },
      "source": [
        "Prueba de bondad normal"
      ]
    },
    {
      "cell_type": "code",
      "execution_count": 6,
      "metadata": {
        "colab": {
          "base_uri": "https://localhost:8080/",
          "height": 283
        },
        "id": "ME3uuzWAUOWt",
        "outputId": "d667ae3e-388f-432b-ee47-7477e07697f6"
      },
      "outputs": [
        {
          "data": {
            "image/png": "[encoded data removed]",
            "text/plain": [
              "<Figure size 432x288 with 1 Axes>"
            ]
          },
          "metadata": {
            "needs_background": "light"
          },
          "output_type": "display_data"
        },
        {
          "name": "stdout",
          "output_type": "stream",
          "text": [
            "(9.78602, 2.3033562511257353)\n"
          ]
        }
      ],
      "source": [
        "sample = [ \n",
        "9.400,\t8.620,\t9.346,\t13.323,\t7.112,\t13.466,\t5.764,\t8.974,\t9.831,\t10.056,\n",
        "7.445,\t6.619,\t9.260,\t6.775,\t8.306,\t5.633,\t8.864,\t13.944,\t8.952,\t9.355,\n",
        "10.489,\t6.306,\t12.685,\t11.078,\t6.957,\t9.532,\t9.192,\t11.731,\t11.350,\t14.389,\n",
        "12.553,\t8.045,\t9.829,  11.804,\t9.274,\t12.190,\t10.270,\t14.751,\t9.237,\t6.515,\n",
        "12.397,\t8.453,\t9.628,\t13.838,\t9.935,\t7.827,\t9.269,\t8.690,\t11.515,\t8.527\n",
        "]\n",
        "\n",
        "params = norm.fit(sample)\n",
        "pdf_fitted = norm.pdf(x, loc=params[0], scale=params[1])\n",
        "pdf_bondad = norm.pdf(x, loc= 10, scale=2)\n",
        "_ = plt.plot(x, pdf_fitted, 'r-')\n",
        "_ = plt.plot(x, pdf_bondad, 'g-')\n",
        "_ = plt.hist(sample, density=1)\n",
        "plt.show()\n",
        "print(params)"
      ]
    }
  ],
  "metadata": {
    "colab": {
      "collapsed_sections": [],
      "name": "modelos-de-simulaicon-1.ipynb",
      "provenance": []
    },
    "kernelspec": {
      "display_name": "Python 3",
      "name": "python3"
    },
    "language_info": {
      "codemirror_mode": {
        "name": "ipython",
        "version": 3
      },
      "file_extension": ".py",
      "mimetype": "text/x-python",
      "name": "python",
      "nbconvert_exporter": "python",
      "pygments_lexer": "ipython3",
      "version": "3.9.12"
    }
  },
  "nbformat": 4,
  "nbformat_minor": 0
}
