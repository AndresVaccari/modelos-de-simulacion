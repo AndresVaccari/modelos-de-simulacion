{
 "cells": [
  {
   "cell_type": "code",
   "execution_count": 1,
   "metadata": {},
   "outputs": [],
   "source": [
    "from scipy.stats import poisson, chi2\n",
    "import numpy as np\n",
    "import matplotlib.pyplot as plt\n",
    "from tabulate import tabulate"
   ]
  },
  {
   "cell_type": "code",
   "execution_count": 10,
   "metadata": {},
   "outputs": [],
   "source": [
    "golosinas = list(\n",
    "    [\n",
    "        (0, 1, 2, 3, 4),\n",
    "        (6, 8, 10, 6, 6),\n",
    "        (0, 0, 0, 0)\n",
    "    ]\n",
    ")\n",
    "ensayos = 36\n",
    "n = 4\n",
    "alfaChi2 = 0.05\n",
    "probP = 0.517\n",
    "lamb = 1.94\n",
    "golosinas[2] = [x/ensayos for x in golosinas[1]]"
   ]
  },
  {
   "cell_type": "code",
   "execution_count": 13,
   "metadata": {},
   "outputs": [
    {
     "data": {
      "image/png": "[encoded data removed]",
      "text/plain": [
       "<Figure size 432x288 with 1 Axes>"
      ]
     },
     "metadata": {},
     "output_type": "display_data"
    }
   ],
   "source": [
    "x = np.arange(\n",
    "    poisson.ppf(0.01, lamb), \n",
    "    poisson.ppf(0.99, lamb)\n",
    ")\n",
    "curvaP = poisson.pmf(x, lamb)\n",
    "\n",
    "plt.style.use('seaborn-white')\n",
    "plt.plot(x, curvaP, 'bo', ms=8)\n",
    "plt.vlines(x, 0, curvaP, colors='b', lw=5, alpha=0.5)\n",
    "plt.bar(golosinas[0], golosinas[2], color='r', alpha=0.5)\n",
    "plt.show()"
   ]
  },
  {
   "cell_type": "code",
   "execution_count": 14,
   "metadata": {},
   "outputs": [
    {
     "name": "stdout",
     "output_type": "stream",
     "text": [
      "|   Repeticiones |   Frecuencia Observadas |\n",
      "|----------------|-------------------------|\n",
      "|              0 |                       6 |\n",
      "|              1 |                       8 |\n",
      "|              2 |                      10 |\n",
      "|              3 |                       6 |\n",
      "|              4 |                       6 |\n"
     ]
    }
   ],
   "source": [
    "repeticiones = golosinas[0]\n",
    "valoresObs = golosinas[1]\n",
    "probMuestrar = golosinas[2]\n",
    "tabla_histograma = list(zip(repeticiones,valoresObs))\n",
    "print(tabulate(tabla_histograma, ['Repeticiones', 'Frecuencia Observadas'], tablefmt=\"github\"))"
   ]
  },
  {
   "cell_type": "code",
   "execution_count": 17,
   "metadata": {},
   "outputs": [
    {
     "name": "stdout",
     "output_type": "stream",
     "text": [
      "P(X =  0 ) =  0.14370394977770293\n",
      "P(X =  1 ) =  0.2787856625687437\n",
      "P(X =  2 ) =  0.2704220926916814\n",
      "P(X =  3 ) =  0.17487295327395394\n",
      "P(X =  4 ) =  0.08481338233786766\n",
      "Acumulado Total = 1.0374114229878173\n"
     ]
    }
   ],
   "source": [
    "probInt = []\n",
    "probAcum = 0\n",
    "for(i) in range(len(golosinas[1])):\n",
    "    prob = poisson.pmf(golosinas[0][i], lamb)\n",
    "    print('P(X = ', golosinas[0][i], ') = ', prob)\n",
    "    probInt.append(prob)\n",
    "    probAcum += prob\n",
    "\n",
    "probAcum += prob\n",
    "print(\"Acumulado Total = {m}\".format(m=probAcum))\n",
    "\n",
    "valores_esperados = []\n",
    "for(i) in probInt:\n",
    "    valores_esperados.append(i*ensayos)\n"
   ]
  },
  {
   "cell_type": "code",
   "execution_count": 18,
   "metadata": {},
   "outputs": [
    {
     "name": "stdout",
     "output_type": "stream",
     "text": [
      "|   Repeticiones |   Valores |      Prob |   Esperado |\n",
      "|----------------|-----------|-----------|------------|\n",
      "|              0 |         6 | 0.143704  |    5.17334 |\n",
      "|              1 |         8 | 0.278786  |   10.0363  |\n",
      "|              2 |        10 | 0.270422  |    9.7352  |\n",
      "|              3 |         6 | 0.174873  |    6.29543 |\n",
      "|              4 |         6 | 0.0848134 |    3.05328 |\n"
     ]
    }
   ],
   "source": [
    "tableData = list(zip(repeticiones, valoresObs, probInt, valores_esperados))\n",
    "print(tabulate(tableData, ['Repeticiones', 'Valores', 'Prob', 'Esperado'], tablefmt=\"github\"))"
   ]
  },
  {
   "cell_type": "code",
   "execution_count": 19,
   "metadata": {},
   "outputs": [
    {
     "name": "stdout",
     "output_type": "stream",
     "text": [
      "Chi de Prueba = 3.410179613461099\n"
     ]
    }
   ],
   "source": [
    "chiDePrueba = 0\n",
    "for(i) in range(len(valores_esperados)):\n",
    "    chiDePrueba += ((valores_esperados[i] - valoresObs[i])**2)/valores_esperados[i]\n",
    "\n",
    "print(\"Chi de Prueba = {m}\".format(m=chiDePrueba))"
   ]
  },
  {
   "cell_type": "code",
   "execution_count": 20,
   "metadata": {},
   "outputs": [
    {
     "name": "stdout",
     "output_type": "stream",
     "text": [
      "Chi2 Critico = 9.487729036781154\n"
     ]
    }
   ],
   "source": [
    "chi2Critico = chi2.ppf(1-alfaChi2, len(valores_esperados)-1)\n",
    "\n",
    "print(\"Chi2 Critico = {m}\".format(m=chi2Critico))"
   ]
  },
  {
   "cell_type": "code",
   "execution_count": 21,
   "metadata": {},
   "outputs": [
    {
     "name": "stdout",
     "output_type": "stream",
     "text": [
      "No se puede rechazar la hipotesis nula\n"
     ]
    }
   ],
   "source": [
    "if chiDePrueba > chi2Critico:\n",
    "    print(\"Se rechaza la hipotesis nula\")\n",
    "else:\n",
    "    print(\"No se puede rechazar la hipotesis nula\")"
   ]
  }
 ],
 "metadata": {
  "interpreter": {
   "hash": "11e63002fb133d8350ff37449324481abc074d51f1a73fa531f9fcae2dd93ef2"
  },
  "kernelspec": {
   "display_name": "Python 3.10.4 64-bit (windows store)",
   "language": "python",
   "name": "python3"
  },
  "language_info": {
   "codemirror_mode": {
    "name": "ipython",
    "version": 3
   },
   "file_extension": ".py",
   "mimetype": "text/x-python",
   "name": "python",
   "nbconvert_exporter": "python",
   "pygments_lexer": "ipython3",
   "version": "3.10.4"
  },
  "orig_nbformat": 4
 },
 "nbformat": 4,
 "nbformat_minor": 2
}
