{
 "cells": [
  {
   "cell_type": "markdown",
   "metadata": {},
   "source": [
    "# Ejercico 1-2 Prueba de bondad de ajuste\n"
   ]
  },
  {
   "cell_type": "markdown",
   "metadata": {},
   "source": [
    "## Enunciado\n",
    "\n",
    "Se realizan 1000 ensayos de arrojar cinco (5) monedas y se registra el número de caras obtenidas. A continuación, se detallan las cantidades obtenidas:\n",
    "\n",
    "| Numero de Caras Obtenidas | Frecuencia Observada |\n",
    "| ------------------------- | -------------------- |\n",
    "| 0                         | 38                   |\n",
    "| 1                         | 144                  |\n",
    "| 2                         | 342                  |\n",
    "| 3                         | 287                  |\n",
    "| 4                         | 164                  |\n",
    "| 5                         | 25                   |\n"
   ]
  },
  {
   "cell_type": "markdown",
   "metadata": {},
   "source": [
    "## Declaraciones de variables y bibliotecas\n"
   ]
  },
  {
   "cell_type": "markdown",
   "metadata": {},
   "source": [
    "### Bibliotecas necesarias\n"
   ]
  },
  {
   "cell_type": "code",
   "execution_count": 5,
   "metadata": {},
   "outputs": [],
   "source": [
    "from scipy.stats import binom, chi2\n",
    "import numpy as np\n",
    "import matplotlib.pyplot as plt\n",
    "from tabulate import tabulate"
   ]
  },
  {
   "cell_type": "markdown",
   "metadata": {},
   "source": [
    "### Declaraciones de Variables\n"
   ]
  },
  {
   "cell_type": "code",
   "execution_count": 52,
   "metadata": {},
   "outputs": [],
   "source": [
    "clases = list([ (0, 1, 2, 3,  4, 5 ),\n",
    "                (38, 144, 342, 287, 164, 25) ,\n",
    "                (0, 0, 0, 0,  0, 0 )])\n",
    "\n",
    "ensayos = 1000\n",
    "clases[2] = [x/ensayos for x in clases[1]]\n",
    "n = 5\n",
    "alfaChi2 = 0.1\n",
    "prob_exito_muestra = 0.5\n"
   ]
  },
  {
   "cell_type": "markdown",
   "metadata": {},
   "source": [
    "## Representación Gráfica\n"
   ]
  },
  {
   "cell_type": "code",
   "execution_count": 53,
   "metadata": {},
   "outputs": [
    {
     "data": {
      "image/png": "[encoded data removed]",
      "image/svg+xml": "<?xml version=\"1.0\" encoding=\"utf-8\" standalone=\"no\"?>\n<!DOCTYPE svg PUBLIC \"-//W3C//DTD SVG 1.1//EN\"\n  \"http://www.w3.org/Graphics/SVG/1.1/DTD/svg11.dtd\">\n<svg xmlns:xlink=\"http://www.w3.org/1999/xlink\" width=\"372.160937pt\" height=\"244.485312pt\" viewBox=\"0 0 372.160937 244.485312\" xmlns=\"http://www.w3.org/2000/svg\" version=\"1.1\">\n <metadata>\n  <rdf:RDF xmlns:dc=\"http://purl.org/dc/elements/1.1/\" xmlns:cc=\"http://creativecommons.org/ns#\" xmlns:rdf=\"http://www.w3.org/1999/02/22-rdf-syntax-ns#\">\n   <cc:Work>\n    <dc:type rdf:resource=\"http://purl.org/dc/dcmitype/StillImage\"/>\n    <dc:date>2022-04-27T18:00:44.060150</dc:date>\n    <dc:format>image/svg+xml</dc:format>\n    <dc:creator>\n     <cc:Agent>\n      <dc:title>Matplotlib v3.5.1, https://matplotlib.org/</dc:title>\n     </cc:Agent>\n    </dc:creator>\n   </cc:Work>\n  </rdf:RDF>\n </metadata>\n <defs>\n  <style type=\"text/css\">*{stroke-linejoin: round; stroke-linecap: butt}</style>\n </defs>\n <g id=\"figure_1\">\n  <g id=\"patch_1\">\n   <path d=\"M 0 244.485312 \nL 372.160937 244.485312 \nL 372.160937 0 \nL 0 0 \nz\n\" style=\"fill: #ffffff\"/>\n  </g>\n  <g id=\"axes_1\">\n   <g id=\"patch_2\">\n    <path d=\"M 30.160938 224.64 \nL 364.960938 224.64 \nL 364.960938 7.2 \nL 30.160938 7.2 \nz\n\" style=\"fill: #ffffff\"/>\n   </g>\n   <g id=\"matplotlib.axis_1\">\n    <g id=\"xtick_1\">\n     <g id=\"line2d_1\"/>\n     <g id=\"text_1\">\n      <!-- 0 -->\n      <g style=\"fill: #262626\" transform=\"translate(63.589246 235.297812)scale(0.1 -0.1)\">\n       <defs>\n        <path id=\"ArialMT-30\" d=\"M 266 2259 \nQ 266 3072 433 3567 \nQ 600 4063 929 4331 \nQ 1259 4600 1759 4600 \nQ 2128 4600 2406 4451 \nQ 2684 4303 2865 4023 \nQ 3047 3744 3150 3342 \nQ 3253 2941 3253 2259 \nQ 3253 1453 3087 958 \nQ 2922 463 2592 192 \nQ 2263 -78 1759 -78 \nQ 1097 -78 719 397 \nQ 266 969 266 2259 \nz\nM 844 2259 \nQ 844 1131 1108 757 \nQ 1372 384 1759 384 \nQ 2147 384 2411 759 \nQ 2675 1134 2675 2259 \nQ 2675 3391 2411 3762 \nQ 2147 4134 1753 4134 \nQ 1366 4134 1134 3806 \nQ 844 3388 844 2259 \nz\n\" transform=\"scale(0.015625)\"/>\n       </defs>\n       <use xlink:href=\"#ArialMT-30\"/>\n      </g>\n     </g>\n    </g>\n    <g id=\"xtick_2\">\n     <g id=\"line2d_2\"/>\n     <g id=\"text_2\">\n      <!-- 1 -->\n      <g style=\"fill: #262626\" transform=\"translate(116.065735 235.297812)scale(0.1 -0.1)\">\n       <defs>\n        <path id=\"ArialMT-31\" d=\"M 2384 0 \nL 1822 0 \nL 1822 3584 \nQ 1619 3391 1289 3197 \nQ 959 3003 697 2906 \nL 697 3450 \nQ 1169 3672 1522 3987 \nQ 1875 4303 2022 4600 \nL 2384 4600 \nL 2384 0 \nz\n\" transform=\"scale(0.015625)\"/>\n       </defs>\n       <use xlink:href=\"#ArialMT-31\"/>\n      </g>\n     </g>\n    </g>\n    <g id=\"xtick_3\">\n     <g id=\"line2d_3\"/>\n     <g id=\"text_3\">\n      <!-- 2 -->\n      <g style=\"fill: #262626\" transform=\"translate(168.542224 235.297812)scale(0.1 -0.1)\">\n       <defs>\n        <path id=\"ArialMT-32\" d=\"M 3222 541 \nL 3222 0 \nL 194 0 \nQ 188 203 259 391 \nQ 375 700 629 1000 \nQ 884 1300 1366 1694 \nQ 2113 2306 2375 2664 \nQ 2638 3022 2638 3341 \nQ 2638 3675 2398 3904 \nQ 2159 4134 1775 4134 \nQ 1369 4134 1125 3890 \nQ 881 3647 878 3216 \nL 300 3275 \nQ 359 3922 746 4261 \nQ 1134 4600 1788 4600 \nQ 2447 4600 2831 4234 \nQ 3216 3869 3216 3328 \nQ 3216 3053 3103 2787 \nQ 2991 2522 2730 2228 \nQ 2469 1934 1863 1422 \nQ 1356 997 1212 845 \nQ 1069 694 975 541 \nL 3222 541 \nz\n\" transform=\"scale(0.015625)\"/>\n       </defs>\n       <use xlink:href=\"#ArialMT-32\"/>\n      </g>\n     </g>\n    </g>\n    <g id=\"xtick_4\">\n     <g id=\"line2d_4\"/>\n     <g id=\"text_4\">\n      <!-- 3 -->\n      <g style=\"fill: #262626\" transform=\"translate(221.018713 235.297812)scale(0.1 -0.1)\">\n       <defs>\n        <path id=\"ArialMT-33\" d=\"M 269 1209 \nL 831 1284 \nQ 928 806 1161 595 \nQ 1394 384 1728 384 \nQ 2125 384 2398 659 \nQ 2672 934 2672 1341 \nQ 2672 1728 2419 1979 \nQ 2166 2231 1775 2231 \nQ 1616 2231 1378 2169 \nL 1441 2663 \nQ 1497 2656 1531 2656 \nQ 1891 2656 2178 2843 \nQ 2466 3031 2466 3422 \nQ 2466 3731 2256 3934 \nQ 2047 4138 1716 4138 \nQ 1388 4138 1169 3931 \nQ 950 3725 888 3313 \nL 325 3413 \nQ 428 3978 793 4289 \nQ 1159 4600 1703 4600 \nQ 2078 4600 2393 4439 \nQ 2709 4278 2876 4000 \nQ 3044 3722 3044 3409 \nQ 3044 3113 2884 2869 \nQ 2725 2625 2413 2481 \nQ 2819 2388 3044 2092 \nQ 3269 1797 3269 1353 \nQ 3269 753 2831 336 \nQ 2394 -81 1725 -81 \nQ 1122 -81 723 278 \nQ 325 638 269 1209 \nz\n\" transform=\"scale(0.015625)\"/>\n       </defs>\n       <use xlink:href=\"#ArialMT-33\"/>\n      </g>\n     </g>\n    </g>\n    <g id=\"xtick_5\">\n     <g id=\"line2d_5\"/>\n     <g id=\"text_5\">\n      <!-- 4 -->\n      <g style=\"fill: #262626\" transform=\"translate(273.495202 235.297812)scale(0.1 -0.1)\">\n       <defs>\n        <path id=\"ArialMT-34\" d=\"M 2069 0 \nL 2069 1097 \nL 81 1097 \nL 81 1613 \nL 2172 4581 \nL 2631 4581 \nL 2631 1613 \nL 3250 1613 \nL 3250 1097 \nL 2631 1097 \nL 2631 0 \nL 2069 0 \nz\nM 2069 1613 \nL 2069 3678 \nL 634 1613 \nL 2069 1613 \nz\n\" transform=\"scale(0.015625)\"/>\n       </defs>\n       <use xlink:href=\"#ArialMT-34\"/>\n      </g>\n     </g>\n    </g>\n    <g id=\"xtick_6\">\n     <g id=\"line2d_6\"/>\n     <g id=\"text_6\">\n      <!-- 5 -->\n      <g style=\"fill: #262626\" transform=\"translate(325.971691 235.297812)scale(0.1 -0.1)\">\n       <defs>\n        <path id=\"ArialMT-35\" d=\"M 266 1200 \nL 856 1250 \nQ 922 819 1161 601 \nQ 1400 384 1738 384 \nQ 2144 384 2425 690 \nQ 2706 997 2706 1503 \nQ 2706 1984 2436 2262 \nQ 2166 2541 1728 2541 \nQ 1456 2541 1237 2417 \nQ 1019 2294 894 2097 \nL 366 2166 \nL 809 4519 \nL 3088 4519 \nL 3088 3981 \nL 1259 3981 \nL 1013 2750 \nQ 1425 3038 1878 3038 \nQ 2478 3038 2890 2622 \nQ 3303 2206 3303 1553 \nQ 3303 931 2941 478 \nQ 2500 -78 1738 -78 \nQ 1113 -78 717 272 \nQ 322 622 266 1200 \nz\n\" transform=\"scale(0.015625)\"/>\n       </defs>\n       <use xlink:href=\"#ArialMT-35\"/>\n      </g>\n     </g>\n    </g>\n   </g>\n   <g id=\"matplotlib.axis_2\">\n    <g id=\"ytick_1\">\n     <g id=\"line2d_7\"/>\n     <g id=\"text_7\">\n      <!-- 0.00 -->\n      <g style=\"fill: #262626\" transform=\"translate(7.2 228.218906)scale(0.1 -0.1)\">\n       <defs>\n        <path id=\"ArialMT-2e\" d=\"M 581 0 \nL 581 641 \nL 1222 641 \nL 1222 0 \nL 581 0 \nz\n\" transform=\"scale(0.015625)\"/>\n       </defs>\n       <use xlink:href=\"#ArialMT-30\"/>\n       <use xlink:href=\"#ArialMT-2e\" x=\"55.615234\"/>\n       <use xlink:href=\"#ArialMT-30\" x=\"83.398438\"/>\n       <use xlink:href=\"#ArialMT-30\" x=\"139.013672\"/>\n      </g>\n     </g>\n    </g>\n    <g id=\"ytick_2\">\n     <g id=\"line2d_8\"/>\n     <g id=\"text_8\">\n      <!-- 0.05 -->\n      <g style=\"fill: #262626\" transform=\"translate(7.2 197.943217)scale(0.1 -0.1)\">\n       <use xlink:href=\"#ArialMT-30\"/>\n       <use xlink:href=\"#ArialMT-2e\" x=\"55.615234\"/>\n       <use xlink:href=\"#ArialMT-30\" x=\"83.398438\"/>\n       <use xlink:href=\"#ArialMT-35\" x=\"139.013672\"/>\n      </g>\n     </g>\n    </g>\n    <g id=\"ytick_3\">\n     <g id=\"line2d_9\"/>\n     <g id=\"text_9\">\n      <!-- 0.10 -->\n      <g style=\"fill: #262626\" transform=\"translate(7.2 167.667528)scale(0.1 -0.1)\">\n       <use xlink:href=\"#ArialMT-30\"/>\n       <use xlink:href=\"#ArialMT-2e\" x=\"55.615234\"/>\n       <use xlink:href=\"#ArialMT-31\" x=\"83.398438\"/>\n       <use xlink:href=\"#ArialMT-30\" x=\"139.013672\"/>\n      </g>\n     </g>\n    </g>\n    <g id=\"ytick_4\">\n     <g id=\"line2d_10\"/>\n     <g id=\"text_10\">\n      <!-- 0.15 -->\n      <g style=\"fill: #262626\" transform=\"translate(7.2 137.391839)scale(0.1 -0.1)\">\n       <use xlink:href=\"#ArialMT-30\"/>\n       <use xlink:href=\"#ArialMT-2e\" x=\"55.615234\"/>\n       <use xlink:href=\"#ArialMT-31\" x=\"83.398438\"/>\n       <use xlink:href=\"#ArialMT-35\" x=\"139.013672\"/>\n      </g>\n     </g>\n    </g>\n    <g id=\"ytick_5\">\n     <g id=\"line2d_11\"/>\n     <g id=\"text_11\">\n      <!-- 0.20 -->\n      <g style=\"fill: #262626\" transform=\"translate(7.2 107.116149)scale(0.1 -0.1)\">\n       <use xlink:href=\"#ArialMT-30\"/>\n       <use xlink:href=\"#ArialMT-2e\" x=\"55.615234\"/>\n       <use xlink:href=\"#ArialMT-32\" x=\"83.398438\"/>\n       <use xlink:href=\"#ArialMT-30\" x=\"139.013672\"/>\n      </g>\n     </g>\n    </g>\n    <g id=\"ytick_6\">\n     <g id=\"line2d_12\"/>\n     <g id=\"text_12\">\n      <!-- 0.25 -->\n      <g style=\"fill: #262626\" transform=\"translate(7.2 76.84046)scale(0.1 -0.1)\">\n       <use xlink:href=\"#ArialMT-30\"/>\n       <use xlink:href=\"#ArialMT-2e\" x=\"55.615234\"/>\n       <use xlink:href=\"#ArialMT-32\" x=\"83.398438\"/>\n       <use xlink:href=\"#ArialMT-35\" x=\"139.013672\"/>\n      </g>\n     </g>\n    </g>\n    <g id=\"ytick_7\">\n     <g id=\"line2d_13\"/>\n     <g id=\"text_13\">\n      <!-- 0.30 -->\n      <g style=\"fill: #262626\" transform=\"translate(7.2 46.564771)scale(0.1 -0.1)\">\n       <use xlink:href=\"#ArialMT-30\"/>\n       <use xlink:href=\"#ArialMT-2e\" x=\"55.615234\"/>\n       <use xlink:href=\"#ArialMT-33\" x=\"83.398438\"/>\n       <use xlink:href=\"#ArialMT-30\" x=\"139.013672\"/>\n      </g>\n     </g>\n    </g>\n    <g id=\"ytick_8\">\n     <g id=\"line2d_14\"/>\n     <g id=\"text_14\">\n      <!-- 0.35 -->\n      <g style=\"fill: #262626\" transform=\"translate(7.2 16.289082)scale(0.1 -0.1)\">\n       <use xlink:href=\"#ArialMT-30\"/>\n       <use xlink:href=\"#ArialMT-2e\" x=\"55.615234\"/>\n       <use xlink:href=\"#ArialMT-33\" x=\"83.398438\"/>\n       <use xlink:href=\"#ArialMT-35\" x=\"139.013672\"/>\n      </g>\n     </g>\n    </g>\n   </g>\n   <g id=\"patch_3\">\n    <path d=\"M 45.379119 224.64 \nL 87.360311 224.64 \nL 87.360311 201.630476 \nL 45.379119 201.630476 \nz\n\" clip-path=\"url(#p94e3112f02)\" style=\"fill: #ff0000; opacity: 0.5\"/>\n   </g>\n   <g id=\"patch_4\">\n    <path d=\"M 97.855608 224.64 \nL 139.8368 224.64 \nL 139.8368 137.446015 \nL 97.855608 137.446015 \nz\n\" clip-path=\"url(#p94e3112f02)\" style=\"fill: #ff0000; opacity: 0.5\"/>\n   </g>\n   <g id=\"patch_5\">\n    <path d=\"M 150.332097 224.64 \nL 192.313289 224.64 \nL 192.313289 17.554286 \nL 150.332097 17.554286 \nz\n\" clip-path=\"url(#p94e3112f02)\" style=\"fill: #ff0000; opacity: 0.5\"/>\n   </g>\n   <g id=\"patch_6\">\n    <path d=\"M 202.808586 224.64 \nL 244.789778 224.64 \nL 244.789778 50.857544 \nL 202.808586 50.857544 \nz\n\" clip-path=\"url(#p94e3112f02)\" style=\"fill: #ff0000; opacity: 0.5\"/>\n   </g>\n   <g id=\"patch_7\">\n    <path d=\"M 255.285075 224.64 \nL 297.266267 224.64 \nL 297.266267 125.335739 \nL 255.285075 125.335739 \nz\n\" clip-path=\"url(#p94e3112f02)\" style=\"fill: #ff0000; opacity: 0.5\"/>\n   </g>\n   <g id=\"patch_8\">\n    <path d=\"M 307.761564 224.64 \nL 349.742756 224.64 \nL 349.742756 209.502155 \nL 307.761564 209.502155 \nz\n\" clip-path=\"url(#p94e3112f02)\" style=\"fill: #ff0000; opacity: 0.5\"/>\n   </g>\n   <g id=\"line2d_15\">\n    <defs>\n     <path id=\"ma64cff7e9c\" d=\"M 0 4 \nC 1.060812 4 2.078319 3.578535 2.828427 2.828427 \nC 3.578535 2.078319 4 1.060812 4 0 \nC 4 -1.060812 3.578535 -2.078319 2.828427 -2.828427 \nC 2.078319 -3.578535 1.060812 -4 0 -4 \nC -1.060812 -4 -2.078319 -3.578535 -2.828427 -2.828427 \nC -3.578535 -2.078319 -4 -1.060812 -4 0 \nC -4 1.060812 -3.578535 2.078319 -2.828427 2.828427 \nC -2.078319 3.578535 -1.060812 4 0 4 \nz\n\" style=\"stroke: #0000ff\"/>\n    </defs>\n    <g clip-path=\"url(#p94e3112f02)\">\n     <use xlink:href=\"#ma64cff7e9c\" x=\"66.369715\" y=\"205.717694\" style=\"fill: #0000ff; stroke: #0000ff\"/>\n     <use xlink:href=\"#ma64cff7e9c\" x=\"118.846204\" y=\"130.028471\" style=\"fill: #0000ff; stroke: #0000ff\"/>\n     <use xlink:href=\"#ma64cff7e9c\" x=\"171.322693\" y=\"35.416942\" style=\"fill: #0000ff; stroke: #0000ff\"/>\n     <use xlink:href=\"#ma64cff7e9c\" x=\"223.799182\" y=\"35.416942\" style=\"fill: #0000ff; stroke: #0000ff\"/>\n     <use xlink:href=\"#ma64cff7e9c\" x=\"276.275671\" y=\"130.028471\" style=\"fill: #0000ff; stroke: #0000ff\"/>\n    </g>\n   </g>\n   <g id=\"LineCollection_1\">\n    <path d=\"M 66.369715 224.64 \nL 66.369715 205.717694 \n\" clip-path=\"url(#p94e3112f02)\" style=\"fill: none; stroke: #0000ff; stroke-opacity: 0.5; stroke-width: 5\"/>\n    <path d=\"M 118.846204 224.64 \nL 118.846204 130.028471 \n\" clip-path=\"url(#p94e3112f02)\" style=\"fill: none; stroke: #0000ff; stroke-opacity: 0.5; stroke-width: 5\"/>\n    <path d=\"M 171.322693 224.64 \nL 171.322693 35.416942 \n\" clip-path=\"url(#p94e3112f02)\" style=\"fill: none; stroke: #0000ff; stroke-opacity: 0.5; stroke-width: 5\"/>\n    <path d=\"M 223.799182 224.64 \nL 223.799182 35.416942 \n\" clip-path=\"url(#p94e3112f02)\" style=\"fill: none; stroke: #0000ff; stroke-opacity: 0.5; stroke-width: 5\"/>\n    <path d=\"M 276.275671 224.64 \nL 276.275671 130.028471 \n\" clip-path=\"url(#p94e3112f02)\" style=\"fill: none; stroke: #0000ff; stroke-opacity: 0.5; stroke-width: 5\"/>\n   </g>\n   <g id=\"patch_9\">\n    <path d=\"M 30.160938 224.64 \nL 30.160938 7.2 \n\" style=\"fill: none; stroke: #262626; stroke-width: 1.25; stroke-linejoin: miter; stroke-linecap: square\"/>\n   </g>\n   <g id=\"patch_10\">\n    <path d=\"M 364.960938 224.64 \nL 364.960938 7.2 \n\" style=\"fill: none; stroke: #262626; stroke-width: 1.25; stroke-linejoin: miter; stroke-linecap: square\"/>\n   </g>\n   <g id=\"patch_11\">\n    <path d=\"M 30.160938 224.64 \nL 364.960938 224.64 \n\" style=\"fill: none; stroke: #262626; stroke-width: 1.25; stroke-linejoin: miter; stroke-linecap: square\"/>\n   </g>\n   <g id=\"patch_12\">\n    <path d=\"M 30.160938 7.2 \nL 364.960938 7.2 \n\" style=\"fill: none; stroke: #262626; stroke-width: 1.25; stroke-linejoin: miter; stroke-linecap: square\"/>\n   </g>\n  </g>\n </g>\n <defs>\n  <clipPath id=\"p94e3112f02\">\n   <rect x=\"30.160938\" y=\"7.2\" width=\"334.8\" height=\"217.44\"/>\n  </clipPath>\n </defs>\n</svg>\n",
      "text/plain": [
       "<Figure size 432x288 with 1 Axes>"
      ]
     },
     "metadata": {},
     "output_type": "display_data"
    }
   ],
   "source": [
    "x = np.arange(binom.ppf(0.01, n, prob_exito_muestra),\n",
    "              binom.ppf(0.99, n, prob_exito_muestra))\n",
    "\n",
    "curva_binomial = binom.pmf(x, n, prob_exito_muestra)\n",
    "\n",
    "plt.style.use('seaborn-white')\n",
    "plt.plot(x, curva_binomial, 'bo', ms=8)\n",
    "plt.vlines(x, 0, curva_binomial, colors='b', lw=5, alpha=0.5)\n",
    "plt.bar(clases[0], clases[2], color='r', alpha=0.5)\n",
    "plt.show()"
   ]
  },
  {
   "cell_type": "markdown",
   "metadata": {},
   "source": [
    "## Cálculos\n"
   ]
  },
  {
   "cell_type": "code",
   "execution_count": 55,
   "metadata": {},
   "outputs": [
    {
     "name": "stdout",
     "output_type": "stream",
     "text": [
      "|   Repeticiones |   Frecuencia Observadas |\n",
      "|----------------|-------------------------|\n",
      "|              0 |                      38 |\n",
      "|              1 |                     144 |\n",
      "|              2 |                     342 |\n",
      "|              3 |                     287 |\n",
      "|              4 |                     164 |\n",
      "|              5 |                      25 |\n"
     ]
    }
   ],
   "source": [
    "\n",
    "# clases es un array con dos elementos:\n",
    "# clases[0] = frecuencias observadas\n",
    "# clases[1] = limite inferior de cada intervalo\n",
    "repeticiones = clases[0]\n",
    "valores_observados = clases[1]\n",
    "probabilidad_muestral = clases[2]\n",
    "tabla_histograma = list(zip(repeticiones,valores_observados))\n",
    "print(tabulate(tabla_histograma, ['Repeticiones', 'Frecuencia Observadas'], tablefmt=\"github\"))\n"
   ]
  },
  {
   "cell_type": "code",
   "execution_count": 59,
   "metadata": {},
   "outputs": [
    {
     "name": "stdout",
     "output_type": "stream",
     "text": [
      "P(X =  0 ) =  0.03125\n",
      "P(X =  1 ) =  0.15624999999999997\n",
      "P(X =  2 ) =  0.31249999999999983\n",
      "P(X =  3 ) =  0.31249999999999983\n",
      "P(X =  4 ) =  0.15625\n",
      "P(X =  5 ) =  0.03125\n",
      "Acumulado Total = 1.0312499999999996\n"
     ]
    }
   ],
   "source": [
    "prob_intervalos = []\n",
    "prob_acumulada = 0\n",
    "\n",
    "for(i) in range(len(clases[1])):\n",
    "    prob = binom.pmf(clases[0][i], n, prob_exito_muestra)\n",
    "    print('P(X = ', clases[0][i], ') = ', prob)\n",
    "    prob_intervalos.append(prob)\n",
    "    prob_acumulada += prob\n",
    "\n",
    "prob_acumulada += prob\n",
    "print(\"Acumulado Total = {m}\".format(m=prob_acumulada))\n",
    "\n",
    "valores_esperados = []\n",
    "for(i) in prob_intervalos:\n",
    "    valores_esperados.append(i*ensayos)\n"
   ]
  },
  {
   "cell_type": "code",
   "execution_count": 60,
   "metadata": {},
   "outputs": [
    {
     "name": "stdout",
     "output_type": "stream",
     "text": [
      "|   Repeticiones |   Valores |    Prob |   Esperado |\n",
      "|----------------|-----------|---------|------------|\n",
      "|              0 |        38 | 0.03125 |      31.25 |\n",
      "|              1 |       144 | 0.15625 |     156.25 |\n",
      "|              2 |       342 | 0.3125  |     312.5  |\n",
      "|              3 |       287 | 0.3125  |     312.5  |\n",
      "|              4 |       164 | 0.15625 |     156.25 |\n",
      "|              5 |        25 | 0.03125 |      31.25 |\n"
     ]
    }
   ],
   "source": [
    "tableData = list(zip(repeticiones, valores_observados, prob_intervalos, valores_esperados))\n",
    "print(tabulate(tableData, ['Repeticiones', 'Valores', 'Prob', 'Esperado'], tablefmt=\"github\"))"
   ]
  },
  {
   "cell_type": "code",
   "execution_count": 61,
   "metadata": {},
   "outputs": [
    {
     "name": "stdout",
     "output_type": "stream",
     "text": [
      "Chi de Prueba = 8.918400000000002\n"
     ]
    }
   ],
   "source": [
    "chiDePrueba = 0\n",
    "for(i) in range(len(valores_esperados)):\n",
    "    chiDePrueba += ((valores_esperados[i] - valores_observados[i])**2)/valores_esperados[i]\n",
    "\n",
    "print(\"Chi de Prueba = {m}\".format(m=chiDePrueba))"
   ]
  },
  {
   "cell_type": "code",
   "execution_count": 62,
   "metadata": {},
   "outputs": [
    {
     "name": "stdout",
     "output_type": "stream",
     "text": [
      "Chi2 Critico = 9.236356899781123\n"
     ]
    }
   ],
   "source": [
    "chi2Critico = chi2.ppf(1-alfaChi2, len(valores_esperados)-1)\n",
    "\n",
    "print(\"Chi2 Critico = {m}\".format(m=chi2Critico))"
   ]
  },
  {
   "cell_type": "markdown",
   "metadata": {},
   "source": [
    "## Conclusión\n"
   ]
  },
  {
   "cell_type": "code",
   "execution_count": 63,
   "metadata": {},
   "outputs": [
    {
     "name": "stdout",
     "output_type": "stream",
     "text": [
      "No se puede rechazar la hipotesis nula\n"
     ]
    }
   ],
   "source": [
    "if chiDePrueba > chi2Critico:\n",
    "    print(\"Se rechaza la hipotesis nula\")\n",
    "else:\n",
    "    print(\"No se puede rechazar la hipotesis nula\")"
   ]
  },
  {
   "cell_type": "markdown",
   "metadata": {},
   "source": []
  }
 ],
 "metadata": {
  "interpreter": {
   "hash": "f7e022b67859ae4a791bbcc1c75bde8b3a5bef3b9abb0060fdb4399d638fb2f6"
  },
  "kernelspec": {
   "display_name": "Python 3.9.12 64-bit",
   "language": "python",
   "name": "python3"
  },
  "language_info": {
   "codemirror_mode": {
    "name": "ipython",
    "version": 3
   },
   "file_extension": ".py",
   "mimetype": "text/x-python",
   "name": "python",
   "nbconvert_exporter": "python",
   "pygments_lexer": "ipython3",
   "version": "3.9.12"
  },
  "orig_nbformat": 4
 },
 "nbformat": 4,
 "nbformat_minor": 2
}
