{
 "cells": [
  {
   "cell_type": "code",
   "execution_count": 1,
   "metadata": {},
   "outputs": [],
   "source": [
    "from scipy.stats import binom, chi2\n",
    "import numpy as np\n",
    "import matplotlib.pyplot as plt\n",
    "from tabulate import tabulate"
   ]
  },
  {
   "cell_type": "code",
   "execution_count": 16,
   "metadata": {},
   "outputs": [],
   "source": [
    "parasitos = list(\n",
    "    [\n",
    "        (0, 1, 2, 3, 4, 5),\n",
    "        (17, 81, 152, 180, 104, 16),\n",
    "        (0, 0, 0, 0, 0)\n",
    "    ]\n",
    ")\n",
    "ensayos = 550\n",
    "n = 5\n",
    "alfaChi2 = 0.05\n",
    "probP = 0.517\n",
    "parasitos[2] = [x/ensayos for x in parasitos[1]]"
   ]
  },
  {
   "cell_type": "code",
   "execution_count": 10,
   "metadata": {},
   "outputs": [
    {
     "data": {
      "image/png": "[encoded data removed]",
      "text/plain": [
       "<Figure size 432x288 with 1 Axes>"
      ]
     },
     "metadata": {},
     "output_type": "display_data"
    }
   ],
   "source": [
    "x = np.arange(\n",
    "    binom.ppf(0.01, n, probP), \n",
    "    binom.ppf(0.99, n, probP)\n",
    ")\n",
    "curvaBinomial = binom.pmf(x, n, probP)\n",
    "\n",
    "plt.style.use('seaborn-white')\n",
    "plt.plot(x, curvaBinomial, 'bo', ms=8)\n",
    "plt.vlines(x, 0, curvaBinomial, colors='b', lw=5, alpha=0.5)\n",
    "plt.bar(parasitos[0], parasitos[2], color='r', alpha=0.5)\n",
    "plt.show()"
   ]
  },
  {
   "cell_type": "code",
   "execution_count": 4,
   "metadata": {},
   "outputs": [
    {
     "name": "stdout",
     "output_type": "stream",
     "text": [
      "|   Repeticiones |   Frecuencia Observadas |\n",
      "|----------------|-------------------------|\n",
      "|              0 |                      17 |\n",
      "|              1 |                      81 |\n",
      "|              2 |                     152 |\n",
      "|              3 |                     180 |\n",
      "|              4 |                     104 |\n",
      "|              5 |                      16 |\n"
     ]
    }
   ],
   "source": [
    "repeticiones = parasitos[0]\n",
    "valoresObs = parasitos[1]\n",
    "probMuestrar = parasitos[2]\n",
    "tabla_histograma = list(zip(repeticiones,valoresObs))\n",
    "print(tabulate(tabla_histograma, ['Repeticiones', 'Frecuencia Observadas'], tablefmt=\"github\"))"
   ]
  },
  {
   "cell_type": "code",
   "execution_count": 6,
   "metadata": {},
   "outputs": [
    {
     "name": "stdout",
     "output_type": "stream",
     "text": [
      "P(X =  0 ) =  0.026286674882642996\n",
      "P(X =  1 ) =  0.14068541319178504\n",
      "P(X =  2 ) =  0.30117746840643006\n",
      "P(X =  3 ) =  0.32237836680356996\n",
      "P(X =  4 ) =  0.17253583399321495\n",
      "P(X =  5 ) =  0.03693624272235701\n",
      "Acumulado Total = 1.036936242722357\n"
     ]
    }
   ],
   "source": [
    "probInt = []\n",
    "probAcum = 0\n",
    "for(i) in range(len(parasitos[1])):\n",
    "    prob = binom.pmf(parasitos[0][i], n, probP)\n",
    "    print('P(X = ', parasitos[0][i], ') = ', prob)\n",
    "    probInt.append(prob)\n",
    "    probAcum += prob\n",
    "\n",
    "probAcum += prob\n",
    "print(\"Acumulado Total = {m}\".format(m=probAcum))\n",
    "\n",
    "valores_esperados = []\n",
    "for(i) in probInt:\n",
    "    valores_esperados.append(i*ensayos)\n"
   ]
  },
  {
   "cell_type": "code",
   "execution_count": 11,
   "metadata": {},
   "outputs": [
    {
     "name": "stdout",
     "output_type": "stream",
     "text": [
      "|   Repeticiones |   Valores |      Prob |   Esperado |\n",
      "|----------------|-----------|-----------|------------|\n",
      "|              0 |        17 | 0.0262867 |    14.4577 |\n",
      "|              1 |        81 | 0.140685  |    77.377  |\n",
      "|              2 |       152 | 0.301177  |   165.648  |\n",
      "|              3 |       180 | 0.322378  |   177.308  |\n",
      "|              4 |       104 | 0.172536  |    94.8947 |\n",
      "|              5 |        16 | 0.0369362 |    20.3149 |\n"
     ]
    }
   ],
   "source": [
    "tableData = list(zip(repeticiones, valoresObs, probInt, valores_esperados))\n",
    "print(tabulate(tableData, ['Repeticiones', 'Valores', 'Prob', 'Esperado'], tablefmt=\"github\"))"
   ]
  },
  {
   "cell_type": "code",
   "execution_count": 13,
   "metadata": {},
   "outputs": [
    {
     "name": "stdout",
     "output_type": "stream",
     "text": [
      "Chi de Prueba = 3.572154069144677\n"
     ]
    }
   ],
   "source": [
    "chiDePrueba = 0\n",
    "for(i) in range(len(valores_esperados)):\n",
    "    chiDePrueba += ((valores_esperados[i] - valoresObs[i])**2)/valores_esperados[i]\n",
    "\n",
    "print(\"Chi de Prueba = {m}\".format(m=chiDePrueba))"
   ]
  },
  {
   "cell_type": "code",
   "execution_count": 17,
   "metadata": {},
   "outputs": [
    {
     "name": "stdout",
     "output_type": "stream",
     "text": [
      "Chi2 Critico = 11.070497693516351\n"
     ]
    }
   ],
   "source": [
    "chi2Critico = chi2.ppf(1-alfaChi2, len(valores_esperados)-1)\n",
    "\n",
    "print(\"Chi2 Critico = {m}\".format(m=chi2Critico))"
   ]
  },
  {
   "cell_type": "code",
   "execution_count": 18,
   "metadata": {},
   "outputs": [
    {
     "name": "stdout",
     "output_type": "stream",
     "text": [
      "No se puede rechazar la hipotesis nula\n"
     ]
    }
   ],
   "source": [
    "if chiDePrueba > chi2Critico:\n",
    "    print(\"Se rechaza la hipotesis nula\")\n",
    "else:\n",
    "    print(\"No se puede rechazar la hipotesis nula\")"
   ]
  }
 ],
 "metadata": {
  "interpreter": {
   "hash": "11e63002fb133d8350ff37449324481abc074d51f1a73fa531f9fcae2dd93ef2"
  },
  "kernelspec": {
   "display_name": "Python 3.10.4 64-bit (windows store)",
   "language": "python",
   "name": "python3"
  },
  "language_info": {
   "codemirror_mode": {
    "name": "ipython",
    "version": 3
   },
   "file_extension": ".py",
   "mimetype": "text/x-python",
   "name": "python",
   "nbconvert_exporter": "python",
   "pygments_lexer": "ipython3",
   "version": "3.10.4"
  },
  "orig_nbformat": 4
 },
 "nbformat": 4,
 "nbformat_minor": 2
}
