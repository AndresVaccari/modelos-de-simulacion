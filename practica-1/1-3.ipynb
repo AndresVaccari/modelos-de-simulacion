{
 "cells": [
  {
   "cell_type": "code",
   "execution_count": null,
   "metadata": {},
   "outputs": [],
   "source": [
    "from scipy.stats import binom, chi2\n",
    "import numpy as np\n",
    "import matplotlib.pyplot as plt\n",
    "from tabulate import tabulate"
   ]
  },
  {
   "cell_type": "code",
   "execution_count": null,
   "metadata": {},
   "outputs": [],
   "source": [
    "parasitos = list(\n",
    "    [\n",
    "        (0, 1, 2, 3, 4, 5),\n",
    "        (17, 81, 152, 180, 104, 16),\n",
    "        (0, 0, 0, 0, 0)\n",
    "    ]\n",
    ")\n",
    "ensayos = 550\n"
   ]
  }
 ],
 "metadata": {
  "language_info": {
   "name": "python"
  },
  "orig_nbformat": 4
 },
 "nbformat": 4,
 "nbformat_minor": 2
}
