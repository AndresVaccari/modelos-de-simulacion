{
 "cells": [
  {
   "cell_type": "markdown",
   "metadata": {},
   "source": [
    "# Ejercico 1-1  Prueba de bondad de ajuste"
   ]
  },
  {
   "cell_type": "markdown",
   "metadata": {},
   "source": [
    "## Enunciado\n",
    "\n",
    "Los tiempos de servicio de un banco de la ciudad de Rosario se registraron en la siguiente tabla. Se desea determinar si los mismos corresponden a una distribución exponencial con parámetro β=10 y un nivel de significancia α = 10%.\n",
    "\n",
    "| 3  | 15 | 45 | 3 | 8  | 11 | 2 | 23 | 21 | 5  |\n",
    "|----|----|----|---|----|----|---|----|----|----|\n",
    "| 13 |  2 |  1 | 5 | 16 | 9  | 3 | 16 | 10 | 13 | \n"
   ]
  },
  {
   "cell_type": "markdown",
   "metadata": {},
   "source": [
    "## Declaraciones de variables y bibliotecas"
   ]
  },
  {
   "cell_type": "markdown",
   "metadata": {},
   "source": [
    "### Bibliotecas necesarias"
   ]
  },
  {
   "cell_type": "code",
   "execution_count": 53,
   "metadata": {},
   "outputs": [],
   "source": [
    "from scipy.stats import expon, chi2\n",
    "import numpy as np\n",
    "import matplotlib.pyplot as plt\n",
    "from tabulate import tabulate"
   ]
  },
  {
   "cell_type": "markdown",
   "metadata": {},
   "source": [
    "### Declaraciones de Variables"
   ]
  },
  {
   "cell_type": "code",
   "execution_count": 54,
   "metadata": {},
   "outputs": [],
   "source": [
    "muestra = [  3, 15, 45, 3, 8, 11, 2, 23, 21, 5, \n",
    "            13, 2, 1, 5, 16, 9, 3, 16, 10, 13]\n",
    "beta= 10\n",
    "n = len(muestra)\n",
    "k = int(n ** 0.5)\n",
    "alfaChi2 = 0.1\n",
    "  \n",
    "rango  = max(muestra) - min(muestra)\n",
    "amplitud = int(rango / k)\n",
    "\n",
    "# generar los intervalos para el histograma\n",
    "bins_range = range(min(muestra), max(muestra) + amplitud, amplitud)\n"
   ]
  },
  {
   "cell_type": "markdown",
   "metadata": {},
   "source": [
    "## Representación Gráfica"
   ]
  },
  {
   "cell_type": "code",
   "execution_count": 55,
   "metadata": {},
   "outputs": [
    {
     "data": {
      "image/png": "[encoded data removed]",
      "image/svg+xml": "<?xml version=\"1.0\" encoding=\"utf-8\" standalone=\"no\"?>\n<!DOCTYPE svg PUBLIC \"-//W3C//DTD SVG 1.1//EN\"\n  \"http://www.w3.org/Graphics/SVG/1.1/DTD/svg11.dtd\">\n<svg xmlns:xlink=\"http://www.w3.org/1999/xlink\" width=\"372.160937pt\" height=\"244.485312pt\" viewBox=\"0 0 372.160937 244.485312\" xmlns=\"http://www.w3.org/2000/svg\" version=\"1.1\">\n <metadata>\n  <rdf:RDF xmlns:dc=\"http://purl.org/dc/elements/1.1/\" xmlns:cc=\"http://creativecommons.org/ns#\" xmlns:rdf=\"http://www.w3.org/1999/02/22-rdf-syntax-ns#\">\n   <cc:Work>\n    <dc:type rdf:resource=\"http://purl.org/dc/dcmitype/StillImage\"/>\n    <dc:date>2022-04-27T16:46:26.654583</dc:date>\n    <dc:format>image/svg+xml</dc:format>\n    <dc:creator>\n     <cc:Agent>\n      <dc:title>Matplotlib v3.5.1, https://matplotlib.org/</dc:title>\n     </cc:Agent>\n    </dc:creator>\n   </cc:Work>\n  </rdf:RDF>\n </metadata>\n <defs>\n  <style type=\"text/css\">*{stroke-linejoin: round; stroke-linecap: butt}</style>\n </defs>\n <g id=\"figure_1\">\n  <g id=\"patch_1\">\n   <path d=\"M 0 244.485312 \nL 372.160937 244.485312 \nL 372.160937 0 \nL 0 0 \nz\n\" style=\"fill: #ffffff\"/>\n  </g>\n  <g id=\"axes_1\">\n   <g id=\"patch_2\">\n    <path d=\"M 30.160938 224.64 \nL 364.960938 224.64 \nL 364.960938 7.2 \nL 30.160938 7.2 \nz\n\" style=\"fill: #ffffff\"/>\n   </g>\n   <g id=\"matplotlib.axis_1\">\n    <g id=\"xtick_1\">\n     <g id=\"line2d_1\"/>\n     <g id=\"text_1\">\n      <!-- 0 -->\n      <g style=\"fill: #262626\" transform=\"translate(41.918882 235.297812)scale(0.1 -0.1)\">\n       <defs>\n        <path id=\"ArialMT-30\" d=\"M 266 2259 \nQ 266 3072 433 3567 \nQ 600 4063 929 4331 \nQ 1259 4600 1759 4600 \nQ 2128 4600 2406 4451 \nQ 2684 4303 2865 4023 \nQ 3047 3744 3150 3342 \nQ 3253 2941 3253 2259 \nQ 3253 1453 3087 958 \nQ 2922 463 2592 192 \nQ 2263 -78 1759 -78 \nQ 1097 -78 719 397 \nQ 266 969 266 2259 \nz\nM 844 2259 \nQ 844 1131 1108 757 \nQ 1372 384 1759 384 \nQ 2147 384 2411 759 \nQ 2675 1134 2675 2259 \nQ 2675 3391 2411 3762 \nQ 2147 4134 1753 4134 \nQ 1366 4134 1134 3806 \nQ 844 3388 844 2259 \nz\n\" transform=\"scale(0.015625)\"/>\n       </defs>\n       <use xlink:href=\"#ArialMT-30\"/>\n      </g>\n     </g>\n    </g>\n    <g id=\"xtick_2\">\n     <g id=\"line2d_2\"/>\n     <g id=\"text_2\">\n      <!-- 10 -->\n      <g style=\"fill: #262626\" transform=\"translate(106.774777 235.297812)scale(0.1 -0.1)\">\n       <defs>\n        <path id=\"ArialMT-31\" d=\"M 2384 0 \nL 1822 0 \nL 1822 3584 \nQ 1619 3391 1289 3197 \nQ 959 3003 697 2906 \nL 697 3450 \nQ 1169 3672 1522 3987 \nQ 1875 4303 2022 4600 \nL 2384 4600 \nL 2384 0 \nz\n\" transform=\"scale(0.015625)\"/>\n       </defs>\n       <use xlink:href=\"#ArialMT-31\"/>\n       <use xlink:href=\"#ArialMT-30\" x=\"55.615234\"/>\n      </g>\n     </g>\n    </g>\n    <g id=\"xtick_3\">\n     <g id=\"line2d_3\"/>\n     <g id=\"text_3\">\n      <!-- 20 -->\n      <g style=\"fill: #262626\" transform=\"translate(174.411141 235.297812)scale(0.1 -0.1)\">\n       <defs>\n        <path id=\"ArialMT-32\" d=\"M 3222 541 \nL 3222 0 \nL 194 0 \nQ 188 203 259 391 \nQ 375 700 629 1000 \nQ 884 1300 1366 1694 \nQ 2113 2306 2375 2664 \nQ 2638 3022 2638 3341 \nQ 2638 3675 2398 3904 \nQ 2159 4134 1775 4134 \nQ 1369 4134 1125 3890 \nQ 881 3647 878 3216 \nL 300 3275 \nQ 359 3922 746 4261 \nQ 1134 4600 1788 4600 \nQ 2447 4600 2831 4234 \nQ 3216 3869 3216 3328 \nQ 3216 3053 3103 2787 \nQ 2991 2522 2730 2228 \nQ 2469 1934 1863 1422 \nQ 1356 997 1212 845 \nQ 1069 694 975 541 \nL 3222 541 \nz\n\" transform=\"scale(0.015625)\"/>\n       </defs>\n       <use xlink:href=\"#ArialMT-32\"/>\n       <use xlink:href=\"#ArialMT-30\" x=\"55.615234\"/>\n      </g>\n     </g>\n    </g>\n    <g id=\"xtick_4\">\n     <g id=\"line2d_4\"/>\n     <g id=\"text_4\">\n      <!-- 30 -->\n      <g style=\"fill: #262626\" transform=\"translate(242.047505 235.297812)scale(0.1 -0.1)\">\n       <defs>\n        <path id=\"ArialMT-33\" d=\"M 269 1209 \nL 831 1284 \nQ 928 806 1161 595 \nQ 1394 384 1728 384 \nQ 2125 384 2398 659 \nQ 2672 934 2672 1341 \nQ 2672 1728 2419 1979 \nQ 2166 2231 1775 2231 \nQ 1616 2231 1378 2169 \nL 1441 2663 \nQ 1497 2656 1531 2656 \nQ 1891 2656 2178 2843 \nQ 2466 3031 2466 3422 \nQ 2466 3731 2256 3934 \nQ 2047 4138 1716 4138 \nQ 1388 4138 1169 3931 \nQ 950 3725 888 3313 \nL 325 3413 \nQ 428 3978 793 4289 \nQ 1159 4600 1703 4600 \nQ 2078 4600 2393 4439 \nQ 2709 4278 2876 4000 \nQ 3044 3722 3044 3409 \nQ 3044 3113 2884 2869 \nQ 2725 2625 2413 2481 \nQ 2819 2388 3044 2092 \nQ 3269 1797 3269 1353 \nQ 3269 753 2831 336 \nQ 2394 -81 1725 -81 \nQ 1122 -81 723 278 \nQ 325 638 269 1209 \nz\n\" transform=\"scale(0.015625)\"/>\n       </defs>\n       <use xlink:href=\"#ArialMT-33\"/>\n       <use xlink:href=\"#ArialMT-30\" x=\"55.615234\"/>\n      </g>\n     </g>\n    </g>\n    <g id=\"xtick_5\">\n     <g id=\"line2d_5\"/>\n     <g id=\"text_5\">\n      <!-- 40 -->\n      <g style=\"fill: #262626\" transform=\"translate(309.683868 235.297812)scale(0.1 -0.1)\">\n       <defs>\n        <path id=\"ArialMT-34\" d=\"M 2069 0 \nL 2069 1097 \nL 81 1097 \nL 81 1613 \nL 2172 4581 \nL 2631 4581 \nL 2631 1613 \nL 3250 1613 \nL 3250 1097 \nL 2631 1097 \nL 2631 0 \nL 2069 0 \nz\nM 2069 1613 \nL 2069 3678 \nL 634 1613 \nL 2069 1613 \nz\n\" transform=\"scale(0.015625)\"/>\n       </defs>\n       <use xlink:href=\"#ArialMT-34\"/>\n       <use xlink:href=\"#ArialMT-30\" x=\"55.615234\"/>\n      </g>\n     </g>\n    </g>\n   </g>\n   <g id=\"matplotlib.axis_2\">\n    <g id=\"ytick_1\">\n     <g id=\"line2d_6\"/>\n     <g id=\"text_6\">\n      <!-- 0.00 -->\n      <g style=\"fill: #262626\" transform=\"translate(7.2 228.218906)scale(0.1 -0.1)\">\n       <defs>\n        <path id=\"ArialMT-2e\" d=\"M 581 0 \nL 581 641 \nL 1222 641 \nL 1222 0 \nL 581 0 \nz\n\" transform=\"scale(0.015625)\"/>\n       </defs>\n       <use xlink:href=\"#ArialMT-30\"/>\n       <use xlink:href=\"#ArialMT-2e\" x=\"55.615234\"/>\n       <use xlink:href=\"#ArialMT-30\" x=\"83.398438\"/>\n       <use xlink:href=\"#ArialMT-30\" x=\"139.013672\"/>\n      </g>\n     </g>\n    </g>\n    <g id=\"ytick_2\">\n     <g id=\"line2d_7\"/>\n     <g id=\"text_7\">\n      <!-- 0.02 -->\n      <g style=\"fill: #262626\" transform=\"translate(7.2 186.383408)scale(0.1 -0.1)\">\n       <use xlink:href=\"#ArialMT-30\"/>\n       <use xlink:href=\"#ArialMT-2e\" x=\"55.615234\"/>\n       <use xlink:href=\"#ArialMT-30\" x=\"83.398438\"/>\n       <use xlink:href=\"#ArialMT-32\" x=\"139.013672\"/>\n      </g>\n     </g>\n    </g>\n    <g id=\"ytick_3\">\n     <g id=\"line2d_8\"/>\n     <g id=\"text_8\">\n      <!-- 0.04 -->\n      <g style=\"fill: #262626\" transform=\"translate(7.2 144.547911)scale(0.1 -0.1)\">\n       <use xlink:href=\"#ArialMT-30\"/>\n       <use xlink:href=\"#ArialMT-2e\" x=\"55.615234\"/>\n       <use xlink:href=\"#ArialMT-30\" x=\"83.398438\"/>\n       <use xlink:href=\"#ArialMT-34\" x=\"139.013672\"/>\n      </g>\n     </g>\n    </g>\n    <g id=\"ytick_4\">\n     <g id=\"line2d_9\"/>\n     <g id=\"text_9\">\n      <!-- 0.06 -->\n      <g style=\"fill: #262626\" transform=\"translate(7.2 102.712413)scale(0.1 -0.1)\">\n       <defs>\n        <path id=\"ArialMT-36\" d=\"M 3184 3459 \nL 2625 3416 \nQ 2550 3747 2413 3897 \nQ 2184 4138 1850 4138 \nQ 1581 4138 1378 3988 \nQ 1113 3794 959 3422 \nQ 806 3050 800 2363 \nQ 1003 2672 1297 2822 \nQ 1591 2972 1913 2972 \nQ 2475 2972 2870 2558 \nQ 3266 2144 3266 1488 \nQ 3266 1056 3080 686 \nQ 2894 316 2569 119 \nQ 2244 -78 1831 -78 \nQ 1128 -78 684 439 \nQ 241 956 241 2144 \nQ 241 3472 731 4075 \nQ 1159 4600 1884 4600 \nQ 2425 4600 2770 4297 \nQ 3116 3994 3184 3459 \nz\nM 888 1484 \nQ 888 1194 1011 928 \nQ 1134 663 1356 523 \nQ 1578 384 1822 384 \nQ 2178 384 2434 671 \nQ 2691 959 2691 1453 \nQ 2691 1928 2437 2201 \nQ 2184 2475 1800 2475 \nQ 1419 2475 1153 2201 \nQ 888 1928 888 1484 \nz\n\" transform=\"scale(0.015625)\"/>\n       </defs>\n       <use xlink:href=\"#ArialMT-30\"/>\n       <use xlink:href=\"#ArialMT-2e\" x=\"55.615234\"/>\n       <use xlink:href=\"#ArialMT-30\" x=\"83.398438\"/>\n       <use xlink:href=\"#ArialMT-36\" x=\"139.013672\"/>\n      </g>\n     </g>\n    </g>\n    <g id=\"ytick_5\">\n     <g id=\"line2d_10\"/>\n     <g id=\"text_10\">\n      <!-- 0.08 -->\n      <g style=\"fill: #262626\" transform=\"translate(7.2 60.876915)scale(0.1 -0.1)\">\n       <defs>\n        <path id=\"ArialMT-38\" d=\"M 1131 2484 \nQ 781 2613 612 2850 \nQ 444 3088 444 3419 \nQ 444 3919 803 4259 \nQ 1163 4600 1759 4600 \nQ 2359 4600 2725 4251 \nQ 3091 3903 3091 3403 \nQ 3091 3084 2923 2848 \nQ 2756 2613 2416 2484 \nQ 2838 2347 3058 2040 \nQ 3278 1734 3278 1309 \nQ 3278 722 2862 322 \nQ 2447 -78 1769 -78 \nQ 1091 -78 675 323 \nQ 259 725 259 1325 \nQ 259 1772 486 2073 \nQ 713 2375 1131 2484 \nz\nM 1019 3438 \nQ 1019 3113 1228 2906 \nQ 1438 2700 1772 2700 \nQ 2097 2700 2305 2904 \nQ 2513 3109 2513 3406 \nQ 2513 3716 2298 3927 \nQ 2084 4138 1766 4138 \nQ 1444 4138 1231 3931 \nQ 1019 3725 1019 3438 \nz\nM 838 1322 \nQ 838 1081 952 856 \nQ 1066 631 1291 507 \nQ 1516 384 1775 384 \nQ 2178 384 2440 643 \nQ 2703 903 2703 1303 \nQ 2703 1709 2433 1975 \nQ 2163 2241 1756 2241 \nQ 1359 2241 1098 1978 \nQ 838 1716 838 1322 \nz\n\" transform=\"scale(0.015625)\"/>\n       </defs>\n       <use xlink:href=\"#ArialMT-30\"/>\n       <use xlink:href=\"#ArialMT-2e\" x=\"55.615234\"/>\n       <use xlink:href=\"#ArialMT-30\" x=\"83.398438\"/>\n       <use xlink:href=\"#ArialMT-38\" x=\"139.013672\"/>\n      </g>\n     </g>\n    </g>\n    <g id=\"ytick_6\">\n     <g id=\"line2d_11\"/>\n     <g id=\"text_11\">\n      <!-- 0.10 -->\n      <g style=\"fill: #262626\" transform=\"translate(7.2 19.041417)scale(0.1 -0.1)\">\n       <use xlink:href=\"#ArialMT-30\"/>\n       <use xlink:href=\"#ArialMT-2e\" x=\"55.615234\"/>\n       <use xlink:href=\"#ArialMT-31\" x=\"83.398438\"/>\n       <use xlink:href=\"#ArialMT-30\" x=\"139.013672\"/>\n      </g>\n     </g>\n    </g>\n   </g>\n   <g id=\"patch_3\">\n    <path d=\"M 51.462988 224.64 \nL 125.862988 224.64 \nL 125.862988 110.543188 \nL 51.462988 110.543188 \nz\n\" clip-path=\"url(#p8c21de5b8b)\" style=\"fill: #008000; opacity: 0.5\"/>\n   </g>\n   <g id=\"patch_4\">\n    <path d=\"M 125.862988 224.64 \nL 200.262988 224.64 \nL 200.262988 167.591594 \nL 125.862988 167.591594 \nz\n\" clip-path=\"url(#p8c21de5b8b)\" style=\"fill: #008000; opacity: 0.5\"/>\n   </g>\n   <g id=\"patch_5\">\n    <path d=\"M 200.262988 224.64 \nL 274.662988 224.64 \nL 274.662988 215.131932 \nL 200.262988 215.131932 \nz\n\" clip-path=\"url(#p8c21de5b8b)\" style=\"fill: #008000; opacity: 0.5\"/>\n   </g>\n   <g id=\"patch_6\">\n    <path d=\"M 274.662988 224.64 \nL 349.062988 224.64 \nL 349.062988 215.131932 \nL 274.662988 215.131932 \nz\n\" clip-path=\"url(#p8c21de5b8b)\" style=\"fill: #008000; opacity: 0.5\"/>\n   </g>\n   <g id=\"line2d_12\">\n    <path d=\"M 45.379119 17.554286 \nL 52.142756 37.261097 \nL 58.906392 55.092557 \nL 65.670028 71.22713 \nL 72.433665 85.826294 \nL 79.197301 99.036165 \nL 85.960938 110.98895 \nL 92.724574 121.804278 \nL 99.48821 131.590391 \nL 106.251847 140.445232 \nL 113.015483 148.457423 \nL 119.779119 155.707154 \nL 126.542756 162.266981 \nL 133.306392 168.202559 \nL 140.070028 173.573292 \nL 146.833665 178.432931 \nL 153.597301 182.830115 \nL 160.360937 186.808852 \nL 167.124574 190.408962 \nL 173.88821 193.666476 \nL 180.651847 196.613996 \nL 187.415483 199.281023 \nL 194.179119 201.694249 \nL 200.942756 203.877826 \nL 207.706392 205.853608 \nL 214.470028 207.641369 \nL 221.233665 209.259003 \nL 227.997301 210.722698 \nL 234.760938 212.047105 \nL 241.524574 213.245477 \nL 248.28821 214.329809 \nL 255.051847 215.310954 \nL 261.815483 216.19873 \nL 268.579119 217.002023 \nL 275.342756 217.728873 \nL 282.106392 218.386553 \nL 288.870028 218.981647 \nL 295.633665 219.520111 \nL 302.397301 220.007333 \nL 309.160937 220.448189 \nL 315.924574 220.847093 \nL 322.68821 221.208036 \nL 329.451847 221.53463 \nL 336.215483 221.830145 \nL 342.979119 222.097538 \nL 349.742756 222.339486 \n\" clip-path=\"url(#p8c21de5b8b)\" style=\"fill: none; stroke: #ff0000; stroke-width: 1.5; stroke-linecap: round\"/>\n   </g>\n   <g id=\"patch_7\">\n    <path d=\"M 30.160938 224.64 \nL 30.160938 7.2 \n\" style=\"fill: none; stroke: #262626; stroke-width: 1.25; stroke-linejoin: miter; stroke-linecap: square\"/>\n   </g>\n   <g id=\"patch_8\">\n    <path d=\"M 364.960938 224.64 \nL 364.960938 7.2 \n\" style=\"fill: none; stroke: #262626; stroke-width: 1.25; stroke-linejoin: miter; stroke-linecap: square\"/>\n   </g>\n   <g id=\"patch_9\">\n    <path d=\"M 30.160938 224.64 \nL 364.960938 224.64 \n\" style=\"fill: none; stroke: #262626; stroke-width: 1.25; stroke-linejoin: miter; stroke-linecap: square\"/>\n   </g>\n   <g id=\"patch_10\">\n    <path d=\"M 30.160938 7.2 \nL 364.960938 7.2 \n\" style=\"fill: none; stroke: #262626; stroke-width: 1.25; stroke-linejoin: miter; stroke-linecap: square\"/>\n   </g>\n  </g>\n </g>\n <defs>\n  <clipPath id=\"p8c21de5b8b\">\n   <rect x=\"30.160938\" y=\"7.2\" width=\"334.8\" height=\"217.44\"/>\n  </clipPath>\n </defs>\n</svg>\n",
      "text/plain": [
       "<Figure size 432x288 with 1 Axes>"
      ]
     },
     "metadata": {},
     "output_type": "display_data"
    }
   ],
   "source": [
    "x = np.arange(expon.ppf(0.01, scale=beta),\n",
    "              expon.ppf(0.99, scale=beta))\n",
    "curva_exponencial = expon.pdf(x, scale=beta)\n",
    "plt.style.use('seaborn-white')\n",
    "plt.plot(x, curva_exponencial, 'r-')\n",
    "plt.hist(muestra, density=1, bins=bins_range, color='g', alpha=0.5)\n",
    "plt.show()"
   ]
  },
  {
   "cell_type": "markdown",
   "metadata": {},
   "source": [
    "## Cálculos"
   ]
  },
  {
   "cell_type": "code",
   "execution_count": 56,
   "metadata": {},
   "outputs": [
    {
     "name": "stdout",
     "output_type": "stream",
     "text": [
      "|   Limite Superior |   Frecuencia Observadas |\n",
      "|-------------------|-------------------------|\n",
      "|                12 |                      12 |\n",
      "|                23 |                       6 |\n",
      "|                34 |                       1 |\n",
      "|                45 |                       1 |\n"
     ]
    }
   ],
   "source": [
    "\n",
    "clases = np.histogram(muestra,bins=bins_range)\n",
    "# clases es un array con dos elementos:\n",
    "# clases[0] = frecuencias observadas\n",
    "# clases[1] = limite inferior de cada intervalo\n",
    "valores_observados = clases[0]\n",
    "limites_superiores = clases[1][1:]\n",
    "tabla_histograma = list(zip(limites_superiores,valores_observados))\n",
    "print(tabulate(tabla_histograma, ['Limite Superior', 'Frecuencia Observadas'], tablefmt=\"github\"))\n"
   ]
  },
  {
   "cell_type": "code",
   "execution_count": 57,
   "metadata": {},
   "outputs": [
    {
     "name": "stdout",
     "output_type": "stream",
     "text": [
      "P(X <  1 ) =  0.09516258196404044\n",
      "P( 1 < X <  12 ) =  0.6036432061237573\n",
      "P( 12 < X <  23 ) =  0.2009353681893984\n",
      "P( 23 < X <  34 ) =  0.06688557376247772\n",
      "P( 34 < X <  45 ) =  0.022264273422083813\n",
      "P(X >  45 ) =  0.011108996538242266\n",
      "Acumulado Total = 1.0\n"
     ]
    }
   ],
   "source": [
    "prob_intervalos = []\n",
    "prob_acumulada = 0\n",
    "\n",
    "for(i) in range(clases[1].size):\n",
    "    prob = expon.cdf(clases[1][i], scale=beta)\n",
    "    # para el primer intervalo calculo directamente la probabilidad acumulada\n",
    "    if i == 0:\n",
    "        print('P(X < ', clases[1][i], ') = ', prob)\n",
    "    # en los siguientes tengo que restar la acumulada hasta el intervalo anterior \n",
    "    else:\n",
    "        prob -= expon.cdf(clases[1][i-1], scale=beta)\n",
    "        print('P(',clases[1][i-1] ,'< X < ', clases[1][i], ') = ', prob)\n",
    "        prob_intervalos.append(prob)\n",
    "    prob_acumulada += prob\n",
    "\n",
    "# finalmente la probabilidad acumulada desde el ultimo intevalo hasta el infinito\n",
    "prob = 1 - expon.cdf(clases[1][clases[1].size-1], scale=beta)\n",
    "print('P(X > ', clases[1][clases[1].size-1], ') = ', prob)\n",
    "\n",
    "prob_acumulada += prob\n",
    "print(\"Acumulado Total = {m}\".format(m=prob_acumulada))\n",
    "\n",
    "valores_esperados = []\n",
    "for(i) in prob_intervalos:\n",
    "    valores_esperados.append(i*n)\n"
   ]
  },
  {
   "cell_type": "code",
   "execution_count": 58,
   "metadata": {},
   "outputs": [
    {
     "name": "stdout",
     "output_type": "stream",
     "text": [
      "|   Limites |   Valores |      Prob |   Esperado |\n",
      "|-----------|-----------|-----------|------------|\n",
      "|        12 |        12 | 0.603643  |  12.0729   |\n",
      "|        23 |         6 | 0.200935  |   4.01871  |\n",
      "|        34 |         1 | 0.0668856 |   1.33771  |\n",
      "|        45 |         1 | 0.0222643 |   0.445285 |\n"
     ]
    }
   ],
   "source": [
    "tableData = list(zip(limites_superiores, valores_observados, prob_intervalos, valores_esperados))\n",
    "print(tabulate(tableData, ['Limites', 'Valores', 'Prob', 'Esperado'], tablefmt=\"github\"))"
   ]
  },
  {
   "cell_type": "code",
   "execution_count": 59,
   "metadata": {},
   "outputs": [
    {
     "name": "stdout",
     "output_type": "stream",
     "text": [
      "Chi de Prueba = 1.7535441524989246\n"
     ]
    }
   ],
   "source": [
    "chiDePrueba = 0\n",
    "for(i) in range(len(valores_esperados)):\n",
    "    chiDePrueba += ((valores_esperados[i] - valores_observados[i])**2)/valores_esperados[i]\n",
    "\n",
    "print(\"Chi de Prueba = {m}\".format(m=chiDePrueba))"
   ]
  },
  {
   "cell_type": "code",
   "execution_count": 60,
   "metadata": {},
   "outputs": [
    {
     "name": "stdout",
     "output_type": "stream",
     "text": [
      "Chi2 Critico = 6.251388631170325\n"
     ]
    }
   ],
   "source": [
    "chi2Critico = chi2.ppf(1-alfaChi2, len(valores_esperados)-1)\n",
    "\n",
    "print(\"Chi2 Critico = {m}\".format(m=chi2Critico))"
   ]
  },
  {
   "cell_type": "markdown",
   "metadata": {},
   "source": [
    "## Conclusión"
   ]
  },
  {
   "cell_type": "code",
   "execution_count": 61,
   "metadata": {},
   "outputs": [
    {
     "name": "stdout",
     "output_type": "stream",
     "text": [
      "No se puede rechazar la hipotesis nula\n"
     ]
    }
   ],
   "source": [
    "if chiDePrueba > chi2Critico:\n",
    "    print(\"Se rechaza la hipotesis nula\")\n",
    "else:\n",
    "    print(\"No se puede rechazar la hipotesis nula\")"
   ]
  },
  {
   "cell_type": "markdown",
   "metadata": {},
   "source": []
  }
 ],
 "metadata": {
  "interpreter": {
   "hash": "f7e022b67859ae4a791bbcc1c75bde8b3a5bef3b9abb0060fdb4399d638fb2f6"
  },
  "kernelspec": {
   "display_name": "Python 3.9.12 64-bit",
   "language": "python",
   "name": "python3"
  },
  "language_info": {
   "codemirror_mode": {
    "name": "ipython",
    "version": 3
   },
   "file_extension": ".py",
   "mimetype": "text/x-python",
   "name": "python",
   "nbconvert_exporter": "python",
   "pygments_lexer": "ipython3",
   "version": "3.9.12"
  },
  "orig_nbformat": 4
 },
 "nbformat": 4,
 "nbformat_minor": 2
}
